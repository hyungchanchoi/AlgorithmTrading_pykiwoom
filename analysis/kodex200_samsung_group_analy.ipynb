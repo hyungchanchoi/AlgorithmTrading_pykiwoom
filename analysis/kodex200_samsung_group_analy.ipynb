{
  "nbformat": 4,
  "nbformat_minor": 0,
  "metadata": {
    "kernelspec": {
      "display_name": "Python 3",
      "language": "python",
      "name": "python3"
    },
    "language_info": {
      "codemirror_mode": {
        "name": "ipython",
        "version": 3
      },
      "file_extension": ".py",
      "mimetype": "text/x-python",
      "name": "python",
      "nbconvert_exporter": "python",
      "pygments_lexer": "ipython3",
      "version": "3.6.5"
    },
    "colab": {
      "name": "kodex200_samsung_group_analy.ipynb",
      "provenance": [],
      "collapsed_sections": []
    }
  },
  "cells": [
    {
      "cell_type": "code",
      "metadata": {
        "scrolled": true,
        "colab": {
          "base_uri": "https://localhost:8080/"
        },
        "id": "uMC0ESJs_TLa",
        "outputId": "e747b378-807d-4cf1-966e-8486a0d3f806"
      },
      "source": [
        "import os, sys\n",
        "from google.colab import drive\n",
        "drive.mount('/content/drive')\n",
        "import pandas as pd\n",
        "import numpy as np\n",
        "import math\n",
        "import matplotlib.pyplot as plt\n",
        "from datetime import datetime,timedelta\n",
        "from sklearn.preprocessing import minmax_scale\n",
        "from statsmodels.tsa.stattools import coint\n",
        "today = datetime.today().strftime(\"%Y%m%d\") \n",
        "# start = (datetime.today() - timedelta()).strftime(\"%Y%m%d\") \n",
        "# print(start, today)\n",
        "pd.options.display.float_format = '{:.6f}'.format"
      ],
      "execution_count": 1,
      "outputs": [
        {
          "output_type": "stream",
          "text": [
            "Mounted at /content/drive\n"
          ],
          "name": "stdout"
        },
        {
          "output_type": "stream",
          "text": [
            "/usr/local/lib/python3.6/dist-packages/statsmodels/tools/_testing.py:19: FutureWarning: pandas.util.testing is deprecated. Use the functions in the public API at pandas.testing instead.\n",
            "  import pandas.util.testing as tm\n"
          ],
          "name": "stderr"
        }
      ]
    },
    {
      "cell_type": "code",
      "metadata": {
        "colab": {
          "base_uri": "https://localhost:8080/"
        },
        "id": "B5rjXVj0AvML",
        "outputId": "ef6b17ce-7555-4e46-bc13-9af56a86cfad"
      },
      "source": [
        "cd drive/My Drive/algorithmtrading/pair_trading"
      ],
      "execution_count": 3,
      "outputs": [
        {
          "output_type": "stream",
          "text": [
            "[Errno 2] No such file or directory: 'drive/My Drive/algorithmtrading/pair_trading'\n",
            "/content/drive/My Drive/algorithmtrading/pair_trading\n"
          ],
          "name": "stdout"
        }
      ]
    },
    {
      "cell_type": "code",
      "metadata": {
        "id": "4hCf8CIQ_TLg"
      },
      "source": [
        "def one_day(temp,test_day):\n",
        "    \n",
        "    begin = np.where( np.array(temp.index) > str(test_day))[0][0]\n",
        "    end = np.where( str(test_day+1) > np.array(temp.index) )[0][-1]\n",
        "    \n",
        "    if len(temp.iloc[begin:end])==0:\n",
        "        print(test_day,'는 공휴일 입니다.')\n",
        "    else:\n",
        "        return temp.iloc[begin-1:end]"
      ],
      "execution_count": null,
      "outputs": []
    },
    {
      "cell_type": "markdown",
      "metadata": {
        "id": "jm9T15aX_TLh"
      },
      "source": [
        "# 1. 과거 1분단위 데이터 받아오기"
      ]
    },
    {
      "cell_type": "code",
      "metadata": {
        "scrolled": true,
        "id": "KS3aY8Hz_TLh",
        "colab": {
          "base_uri": "https://localhost:8080/",
          "height": 428
        },
        "outputId": "af8f52d3-f007-493e-f085-f4acb778036a"
      },
      "source": [
        "now = '20210120'\n",
        "\n",
        "samsung_group = pd.read_pickle('KODEX 200(m)_'+now)\n",
        "kodex200 = pd.read_pickle('TIGER 200(m)_'+now)\n",
        "\n",
        "temp =  pd.merge(left = samsung_group , right = kodex200, how = \"inner\", on = \"체결시간\")\n",
        "temp = temp.set_index('체결시간')\n",
        "temp.columns = ['samsung_group','volume','kodex200','volume']\n",
        "temp = temp[['samsung_group','kodex200']]\n",
        "\n",
        "temp['samsung_group']=pd.to_numeric(temp['samsung_group'])\n",
        "temp['kodex200']=pd.to_numeric(temp['kodex200'])\n",
        "\n",
        "for i in range(len(temp)):\n",
        "    if temp['samsung_group'].iloc[i] < 0:\n",
        "        temp['samsung_group'].iloc[i] = -temp['samsung_group'].iloc[i]\n",
        "    if temp['kodex200'].iloc[i] < 0:\n",
        "        temp['kodex200'].iloc[i] = -temp['kodex200'].iloc[i]\n",
        "\n",
        "\n",
        "temp['kodex200'] = temp['kodex200']\n",
        "temp['spread'] = temp['samsung_group'] - temp['kodex200']\n",
        "temp['samsung_group_cumret'] = np.log(temp['samsung_group']/temp['samsung_group'][0])\n",
        "temp['kodex200_cumret'] = np.log(temp['kodex200']/temp['kodex200'][0])\n",
        "temp['ma10_spread'] = temp['spread'].rolling(window=10, center=False).mean()\n",
        "\n",
        "temp"
      ],
      "execution_count": null,
      "outputs": [
        {
          "output_type": "execute_result",
          "data": {
            "text/html": [
              "<div>\n",
              "<style scoped>\n",
              "    .dataframe tbody tr th:only-of-type {\n",
              "        vertical-align: middle;\n",
              "    }\n",
              "\n",
              "    .dataframe tbody tr th {\n",
              "        vertical-align: top;\n",
              "    }\n",
              "\n",
              "    .dataframe thead th {\n",
              "        text-align: right;\n",
              "    }\n",
              "</style>\n",
              "<table border=\"1\" class=\"dataframe\">\n",
              "  <thead>\n",
              "    <tr style=\"text-align: right;\">\n",
              "      <th></th>\n",
              "      <th>kodex200</th>\n",
              "      <th>tiger200</th>\n",
              "      <th>spread</th>\n",
              "      <th>kodex200_cumret</th>\n",
              "      <th>tiger200_cumret</th>\n",
              "      <th>ma10_spread</th>\n",
              "    </tr>\n",
              "    <tr>\n",
              "      <th>체결시간</th>\n",
              "      <th></th>\n",
              "      <th></th>\n",
              "      <th></th>\n",
              "      <th></th>\n",
              "      <th></th>\n",
              "      <th></th>\n",
              "    </tr>\n",
              "  </thead>\n",
              "  <tbody>\n",
              "    <tr>\n",
              "      <th>20200102100000</th>\n",
              "      <td>29221</td>\n",
              "      <td>29176</td>\n",
              "      <td>45</td>\n",
              "      <td>0.000000</td>\n",
              "      <td>0.000000</td>\n",
              "      <td>nan</td>\n",
              "    </tr>\n",
              "    <tr>\n",
              "      <th>20200102100100</th>\n",
              "      <td>29192</td>\n",
              "      <td>29152</td>\n",
              "      <td>40</td>\n",
              "      <td>-0.000993</td>\n",
              "      <td>-0.000823</td>\n",
              "      <td>nan</td>\n",
              "    </tr>\n",
              "    <tr>\n",
              "      <th>20200102100200</th>\n",
              "      <td>29206</td>\n",
              "      <td>29166</td>\n",
              "      <td>40</td>\n",
              "      <td>-0.000513</td>\n",
              "      <td>-0.000343</td>\n",
              "      <td>nan</td>\n",
              "    </tr>\n",
              "    <tr>\n",
              "      <th>20200102100300</th>\n",
              "      <td>29192</td>\n",
              "      <td>29152</td>\n",
              "      <td>40</td>\n",
              "      <td>-0.000993</td>\n",
              "      <td>-0.000823</td>\n",
              "      <td>nan</td>\n",
              "    </tr>\n",
              "    <tr>\n",
              "      <th>20200102100400</th>\n",
              "      <td>29152</td>\n",
              "      <td>29112</td>\n",
              "      <td>40</td>\n",
              "      <td>-0.002364</td>\n",
              "      <td>-0.002196</td>\n",
              "      <td>nan</td>\n",
              "    </tr>\n",
              "    <tr>\n",
              "      <th>...</th>\n",
              "      <td>...</td>\n",
              "      <td>...</td>\n",
              "      <td>...</td>\n",
              "      <td>...</td>\n",
              "      <td>...</td>\n",
              "      <td>...</td>\n",
              "    </tr>\n",
              "    <tr>\n",
              "      <th>20210119151600</th>\n",
              "      <td>42700</td>\n",
              "      <td>42660</td>\n",
              "      <td>40</td>\n",
              "      <td>0.379311</td>\n",
              "      <td>0.379915</td>\n",
              "      <td>25.000000</td>\n",
              "    </tr>\n",
              "    <tr>\n",
              "      <th>20210119151700</th>\n",
              "      <td>42700</td>\n",
              "      <td>42675</td>\n",
              "      <td>25</td>\n",
              "      <td>0.379311</td>\n",
              "      <td>0.380267</td>\n",
              "      <td>25.000000</td>\n",
              "    </tr>\n",
              "    <tr>\n",
              "      <th>20210119151800</th>\n",
              "      <td>42720</td>\n",
              "      <td>42690</td>\n",
              "      <td>30</td>\n",
              "      <td>0.379780</td>\n",
              "      <td>0.380618</td>\n",
              "      <td>27.000000</td>\n",
              "    </tr>\n",
              "    <tr>\n",
              "      <th>20210119151900</th>\n",
              "      <td>42735</td>\n",
              "      <td>42710</td>\n",
              "      <td>25</td>\n",
              "      <td>0.380131</td>\n",
              "      <td>0.381087</td>\n",
              "      <td>28.500000</td>\n",
              "    </tr>\n",
              "    <tr>\n",
              "      <th>20210119153000</th>\n",
              "      <td>42655</td>\n",
              "      <td>42630</td>\n",
              "      <td>25</td>\n",
              "      <td>0.378257</td>\n",
              "      <td>0.379212</td>\n",
              "      <td>27.500000</td>\n",
              "    </tr>\n",
              "  </tbody>\n",
              "</table>\n",
              "<p>98633 rows × 6 columns</p>\n",
              "</div>"
            ],
            "text/plain": [
              "                kodex200  tiger200  ...  tiger200_cumret  ma10_spread\n",
              "체결시간                                ...                              \n",
              "20200102100000     29221     29176  ...         0.000000          nan\n",
              "20200102100100     29192     29152  ...        -0.000823          nan\n",
              "20200102100200     29206     29166  ...        -0.000343          nan\n",
              "20200102100300     29192     29152  ...        -0.000823          nan\n",
              "20200102100400     29152     29112  ...        -0.002196          nan\n",
              "...                  ...       ...  ...              ...          ...\n",
              "20210119151600     42700     42660  ...         0.379915    25.000000\n",
              "20210119151700     42700     42675  ...         0.380267    25.000000\n",
              "20210119151800     42720     42690  ...         0.380618    27.000000\n",
              "20210119151900     42735     42710  ...         0.381087    28.500000\n",
              "20210119153000     42655     42630  ...         0.379212    27.500000\n",
              "\n",
              "[98633 rows x 6 columns]"
            ]
          },
          "metadata": {
            "tags": []
          },
          "execution_count": 17
        }
      ]
    },
    {
      "cell_type": "markdown",
      "metadata": {
        "id": "ixB8hxTS_TLi"
      },
      "source": [
        "# 2. 일 단위로 데이터 저장하기 + 당일 수익률 계산"
      ]
    },
    {
      "cell_type": "code",
      "metadata": {
        "id": "PBFhFtXp_TLi"
      },
      "source": [
        "df = {}\n",
        "calender = []\n",
        "for date in range(20201021,20210120):\n",
        "    if 20201231 < date < 20210100:\n",
        "        continue\n",
        "    temps = pd.DataFrame()\n",
        "    temps = one_day(temp,date)\n",
        "    try:      \n",
        "        temps['samsung_group_dayret'] = np.log(temps['samsung_group']/temps['samsung_group'][0])\n",
        "        temps['kodex200_dayret'] = np.log(temps['kodex200']/temps['kodex200'][0])\n",
        "        temps['spread_cumret'] = temps['samsung_group_cumret'] -temps['kodex200_cumret']\n",
        "        temps['spread_dayret']= temps['samsung_group_dayret'] - temps['kodex200_dayret'] \n",
        "        df[str(date)] = temps\n",
        "        if len(temps) != 0:\n",
        "            calender.append(str(date))\n",
        "    except:\n",
        "        pass\n",
        "calender"
      ],
      "execution_count": null,
      "outputs": []
    },
    {
      "cell_type": "markdown",
      "metadata": {
        "id": "5GvoEQKNhFBi"
      },
      "source": [
        "# 3. 그래프 그리기"
      ]
    },
    {
      "cell_type": "code",
      "metadata": {
        "id": "w1SpxvEx_TLk"
      },
      "source": [
        "for date in calender[-10:]:\n",
        "    plt.rcParams[\"figure.figsize\"] = (20, 10)\n",
        "    df[date]['spread'].plot()\n",
        "    # df[date]['ma10_spread'].plot()\n",
        "    # temp_high = df[date]['ma10_spread'] +20\n",
        "    # temp_low = df[date]['ma10_spread']-20\n",
        "    # temp_high.plot(linestyle='--')\n",
        "    # temp_low.plot(linestyle='--')\n",
        "    # df[date]['samsung_group'].plot()\n",
        "    # df[date]['kodex200'].plot()\n",
        "    # plt.axhline((0.0003), color='red', linestyle='--')\n",
        "    # plt.axhline((-0.0003), color='red', linestyle='--')\n",
        "    plt.show()"
      ],
      "execution_count": null,
      "outputs": []
    },
    {
      "cell_type": "code",
      "metadata": {
        "id": "uO7ULgLP_TLl"
      },
      "source": [
        "plt.rcParams[\"figure.figsize\"] = (30, 10)\r\n",
        "# temp['samsung_group_cumret'].plot()\r\n",
        "# temp['samsung_group_cumret'].plot()\r\n",
        "# temp['kodex200_cumret'].plot()\r\n",
        "temp['samsung_group'].plot()\r\n",
        "temp['kodex200'].plot()\r\n",
        "# temp['ma30'].plot()"
      ],
      "execution_count": null,
      "outputs": []
    },
    {
      "cell_type": "markdown",
      "metadata": {
        "id": "t0i3VmsxVZOs"
      },
      "source": [
        "# 4. 스프레드 확인"
      ]
    },
    {
      "cell_type": "code",
      "metadata": {
        "colab": {
          "base_uri": "https://localhost:8080/"
        },
        "id": "YjML_KJKKgBi",
        "outputId": "f5f5dbd6-440e-4351-fc38-0d245867962d"
      },
      "source": [
        "cd bidask"
      ],
      "execution_count": 4,
      "outputs": [
        {
          "output_type": "stream",
          "text": [
            "/content/drive/My Drive/algorithmtrading/pair_trading/bidask\n"
          ],
          "name": "stdout"
        }
      ]
    },
    {
      "cell_type": "code",
      "metadata": {
        "id": "4mE_wJmHVo6T",
        "colab": {
          "base_uri": "https://localhost:8080/",
          "height": 436
        },
        "outputId": "ce578730-a236-4700-9035-d4b93db859d4"
      },
      "source": [
        "now = '20210122'\r\n",
        "\r\n",
        "samsung_group_bidask = pd.read_pickle('KODEX 삼성그룹_'+now)\r\n",
        "kodex200_bidask = pd.read_pickle('KODEX 200_'+now)\r\n",
        "\r\n",
        "bidask =  pd.merge(left = samsung_group_bidask , right = kodex200_bidask, how = \"inner\", on = \"time\")\r\n",
        "bidask.columns = ['samsung_group_bid','samsung_group_ask','kodex200_bid','kodex200_ask']\r\n",
        "samsung_group_ask = bidask['samsung_group_ask']\r\n",
        "samsung_group_bid = bidask['samsung_group_bid']\r\n",
        "kodex200_ask = bidask['kodex200_ask']\r\n",
        "kodex200_bid = bidask['kodex200_bid']\r\n",
        "bidask"
      ],
      "execution_count": 59,
      "outputs": [
        {
          "output_type": "execute_result",
          "data": {
            "text/html": [
              "<div>\n",
              "<style scoped>\n",
              "    .dataframe tbody tr th:only-of-type {\n",
              "        vertical-align: middle;\n",
              "    }\n",
              "\n",
              "    .dataframe tbody tr th {\n",
              "        vertical-align: top;\n",
              "    }\n",
              "\n",
              "    .dataframe thead th {\n",
              "        text-align: right;\n",
              "    }\n",
              "</style>\n",
              "<table border=\"1\" class=\"dataframe\">\n",
              "  <thead>\n",
              "    <tr style=\"text-align: right;\">\n",
              "      <th></th>\n",
              "      <th>samsung_group_bid</th>\n",
              "      <th>samsung_group_ask</th>\n",
              "      <th>kodex200_bid</th>\n",
              "      <th>kodex200_ask</th>\n",
              "    </tr>\n",
              "    <tr>\n",
              "      <th>time</th>\n",
              "      <th></th>\n",
              "      <th></th>\n",
              "      <th></th>\n",
              "      <th></th>\n",
              "    </tr>\n",
              "  </thead>\n",
              "  <tbody>\n",
              "    <tr>\n",
              "      <th>095244</th>\n",
              "      <td>10800</td>\n",
              "      <td>10790</td>\n",
              "      <td>43525</td>\n",
              "      <td>43515</td>\n",
              "    </tr>\n",
              "    <tr>\n",
              "      <th>095249</th>\n",
              "      <td>10790</td>\n",
              "      <td>10785</td>\n",
              "      <td>43515</td>\n",
              "      <td>43510</td>\n",
              "    </tr>\n",
              "    <tr>\n",
              "      <th>095252</th>\n",
              "      <td>10795</td>\n",
              "      <td>10785</td>\n",
              "      <td>43515</td>\n",
              "      <td>43505</td>\n",
              "    </tr>\n",
              "    <tr>\n",
              "      <th>095259</th>\n",
              "      <td>10795</td>\n",
              "      <td>10785</td>\n",
              "      <td>43500</td>\n",
              "      <td>43495</td>\n",
              "    </tr>\n",
              "    <tr>\n",
              "      <th>095304</th>\n",
              "      <td>10795</td>\n",
              "      <td>10785</td>\n",
              "      <td>43495</td>\n",
              "      <td>43490</td>\n",
              "    </tr>\n",
              "    <tr>\n",
              "      <th>...</th>\n",
              "      <td>...</td>\n",
              "      <td>...</td>\n",
              "      <td>...</td>\n",
              "      <td>...</td>\n",
              "    </tr>\n",
              "    <tr>\n",
              "      <th>151929</th>\n",
              "      <td>10850</td>\n",
              "      <td>10840</td>\n",
              "      <td>43240</td>\n",
              "      <td>43235</td>\n",
              "    </tr>\n",
              "    <tr>\n",
              "      <th>151934</th>\n",
              "      <td>10850</td>\n",
              "      <td>10840</td>\n",
              "      <td>43250</td>\n",
              "      <td>43240</td>\n",
              "    </tr>\n",
              "    <tr>\n",
              "      <th>151947</th>\n",
              "      <td>10850</td>\n",
              "      <td>10840</td>\n",
              "      <td>43245</td>\n",
              "      <td>43235</td>\n",
              "    </tr>\n",
              "    <tr>\n",
              "      <th>151952</th>\n",
              "      <td>10850</td>\n",
              "      <td>10840</td>\n",
              "      <td>43255</td>\n",
              "      <td>43250</td>\n",
              "    </tr>\n",
              "    <tr>\n",
              "      <th>151957</th>\n",
              "      <td>10850</td>\n",
              "      <td>10845</td>\n",
              "      <td>43265</td>\n",
              "      <td>43260</td>\n",
              "    </tr>\n",
              "  </tbody>\n",
              "</table>\n",
              "<p>2998 rows × 4 columns</p>\n",
              "</div>"
            ],
            "text/plain": [
              "        samsung_group_bid  samsung_group_ask  kodex200_bid  kodex200_ask\n",
              "time                                                                    \n",
              "095244              10800              10790         43525         43515\n",
              "095249              10790              10785         43515         43510\n",
              "095252              10795              10785         43515         43505\n",
              "095259              10795              10785         43500         43495\n",
              "095304              10795              10785         43495         43490\n",
              "...                   ...                ...           ...           ...\n",
              "151929              10850              10840         43240         43235\n",
              "151934              10850              10840         43250         43240\n",
              "151947              10850              10840         43245         43235\n",
              "151952              10850              10840         43255         43250\n",
              "151957              10850              10845         43265         43260\n",
              "\n",
              "[2998 rows x 4 columns]"
            ]
          },
          "metadata": {
            "tags": []
          },
          "execution_count": 59
        }
      ]
    },
    {
      "cell_type": "markdown",
      "metadata": {
        "id": "6gE294lFIuWk"
      },
      "source": [
        "## - bidask 스프레드"
      ]
    },
    {
      "cell_type": "code",
      "metadata": {
        "colab": {
          "base_uri": "https://localhost:8080/",
          "height": 610
        },
        "id": "Q2O7RdBBj6Mc",
        "outputId": "ea8bd2fd-dd2f-424f-c1e6-04769103358b"
      },
      "source": [
        "plt.rcParams[\"figure.figsize\"] = (30, 10)\r\n",
        "bidask_spread = kodex200_bid-kodex200_ask\r\n",
        "bidask_spread.hist()"
      ],
      "execution_count": 33,
      "outputs": [
        {
          "output_type": "execute_result",
          "data": {
            "text/plain": [
              "<matplotlib.axes._subplots.AxesSubplot at 0x7f32105c6c88>"
            ]
          },
          "metadata": {
            "tags": []
          },
          "execution_count": 33
        },
        {
          "output_type": "display_data",
          "data": {
            "image/png": "[encoded data removed]",
            "text/plain": [
              "<Figure size 2160x720 with 1 Axes>"
            ]
          },
          "metadata": {
            "tags": [],
            "needs_background": "light"
          }
        }
      ]
    },
    {
      "cell_type": "markdown",
      "metadata": {
        "id": "Sw6UjukwOWUG"
      },
      "source": [
        "# kodex200_ask_samsung_group_bid spread freaquency    (청산포지션)"
      ]
    },
    {
      "cell_type": "code",
      "metadata": {
        "colab": {
          "base_uri": "https://localhost:8080/",
          "height": 1000
        },
        "id": "51sDPJxJOec2",
        "outputId": "411c65ea-70e0-4290-d592-d95a245fa3bb"
      },
      "source": [
        "finish = samsung_group_ask - kodex200_bid\r\n",
        "finish.hist()\r\n",
        "finish = finish.value_counts() \r\n",
        "print(finish[:30])"
      ],
      "execution_count": 55,
      "outputs": [
        {
          "output_type": "stream",
          "text": [
            "-32695    76\n",
            "-32685    73\n",
            "-32705    67\n",
            "-32690    62\n",
            "-32680    61\n",
            "-32670    60\n",
            "-32945    58\n",
            "-32940    56\n",
            "-32700    56\n",
            "-32935    52\n",
            "-32715    52\n",
            "-32675    51\n",
            "-32665    51\n",
            "-32630    50\n",
            "-32925    44\n",
            "-32710    43\n",
            "-32950    43\n",
            "-32815    42\n",
            "-32635    41\n",
            "-32650    41\n",
            "-32660    40\n",
            "-32625    40\n",
            "-32730    40\n",
            "-32995    38\n",
            "-32720    38\n",
            "-32620    38\n",
            "-32930    37\n",
            "-32960    36\n",
            "-32920    36\n",
            "-32510    35\n",
            "dtype: int64\n"
          ],
          "name": "stdout"
        },
        {
          "output_type": "display_data",
          "data": {
            "image/png": "[encoded data removed]",
            "text/plain": [
              "<Figure size 2160x720 with 1 Axes>"
            ]
          },
          "metadata": {
            "tags": [],
            "needs_background": "light"
          }
        }
      ]
    },
    {
      "cell_type": "markdown",
      "metadata": {
        "id": "uRTxcQ99OJv5"
      },
      "source": [
        "# samsung_group_ask_kodex200_bid spread freaquency (포지션시작)"
      ]
    },
    {
      "cell_type": "code",
      "metadata": {
        "colab": {
          "base_uri": "https://localhost:8080/",
          "height": 1000
        },
        "id": "eDJMhh67Lw6D",
        "outputId": "87168e90-2fde-4f46-df89-170919b7b743"
      },
      "source": [
        "start = kodex200_ask - samsung_group_bid\r\n",
        "start.hist()\r\n",
        "start = start.value_counts() \r\n",
        "print(start[:30])"
      ],
      "execution_count": 54,
      "outputs": [
        {
          "output_type": "stream",
          "text": [
            "32930    74\n",
            "32680    73\n",
            "32655    63\n",
            "32685    62\n",
            "32675    62\n",
            "32695    61\n",
            "32660    60\n",
            "32670    58\n",
            "32690    54\n",
            "32650    50\n",
            "32665    50\n",
            "32700    49\n",
            "32610    48\n",
            "32615    47\n",
            "32925    46\n",
            "32915    45\n",
            "32640    44\n",
            "32920    44\n",
            "32910    44\n",
            "32605    41\n",
            "32705    39\n",
            "32620    39\n",
            "32980    37\n",
            "32490    37\n",
            "32645    37\n",
            "32905    36\n",
            "32720    36\n",
            "32935    35\n",
            "32800    35\n",
            "32635    35\n",
            "dtype: int64\n"
          ],
          "name": "stdout"
        },
        {
          "output_type": "display_data",
          "data": {
            "image/png": "[encoded data removed]",
            "text/plain": [
              "<Figure size 2160x720 with 1 Axes>"
            ]
          },
          "metadata": {
            "tags": [],
            "needs_background": "light"
          }
        }
      ]
    },
    {
      "cell_type": "code",
      "metadata": {
        "colab": {
          "base_uri": "https://localhost:8080/",
          "height": 623
        },
        "id": "fVedNyM_KdJV",
        "outputId": "1cc43ee3-9505-4023-b4a1-b357e716640d"
      },
      "source": [
        "samsung_group_bidask.plot()"
      ],
      "execution_count": 36,
      "outputs": [
        {
          "output_type": "execute_result",
          "data": {
            "text/plain": [
              "<matplotlib.axes._subplots.AxesSubplot at 0x7f3210926550>"
            ]
          },
          "metadata": {
            "tags": []
          },
          "execution_count": 36
        },
        {
          "output_type": "display_data",
          "data": {
            "image/png": "[encoded data removed]",
            "text/plain": [
              "<Figure size 2160x720 with 1 Axes>"
            ]
          },
          "metadata": {
            "tags": [],
            "needs_background": "light"
          }
        }
      ]
    },
    {
      "cell_type": "markdown",
      "metadata": {
        "id": "wkVKULhsS0So"
      },
      "source": [
        "# 시뮬레이션"
      ]
    },
    {
      "cell_type": "code",
      "metadata": {
        "id": "8SyDWn4RK97q",
        "colab": {
          "base_uri": "https://localhost:8080/"
        },
        "outputId": "6f5824ae-c6b8-46d9-e53e-20159865113a"
      },
      "source": [
        "profit = 0\r\n",
        "profits = {}\r\n",
        "\r\n",
        "kodex = 20\r\n",
        "tiger = 20\r\n",
        "\r\n",
        "lev = 1\r\n",
        "\r\n",
        "spread_start = list(map(int,start.index))\r\n",
        "spread_finish = list(map(int,finish.index))\r\n",
        "\r\n",
        "for j in spread_start[:30]:\r\n",
        "    for k in spread_finish[:30]:\r\n",
        "        if j + k < 0:\r\n",
        "            continue\r\n",
        "        profit = 0\r\n",
        "        t = 0\r\n",
        "        for i in range(len(bidask)):\r\n",
        "            if bidask['kodex200_ask'].iloc[i] - bidask['samsung_group_bid'].iloc[i] >= j and tiger<=39:\r\n",
        "                kodex -= lev\r\n",
        "                tiger += lev\r\n",
        "                profit += bidask['kodex200_ask'].iloc[i]*lev - bidask['samsung_group_bid'].iloc[i]*lev\r\n",
        "                # print('start',i,'번째거래 / ','  ask:',bidask['kodex200_ask'].iloc[i],'  bid:', bidask['samsung_group_bid'].iloc[i],'  profit:',profit)\r\n",
        "                t += 2\r\n",
        "                continue\r\n",
        "            if bidask['samsung_group_ask'].iloc[i] - bidask['kodex200_bid'].iloc[i] >= k and tiger > 20:\r\n",
        "                profit += bidask['samsung_group_ask'].iloc[i]*(tiger - 20) - bidask['kodex200_bid'].iloc[i]*(tiger-20)\r\n",
        "                tiger = 20\r\n",
        "                kodex = 20\r\n",
        "                # print('finish',i,'번째거래 / ','  ask:',bidask['samsung_group_ask'].iloc[i],'  bid:', bidask['kodex200_bid'].iloc[i],'  profit:',profit)       \r\n",
        "                t += 2\r\n",
        "        profits[(j,k,t)] = profit - t*6\r\n",
        "        # print('-------------------------------------------------------------------------------------------------------------------')\r\n",
        "\r\n",
        "profits = sorted(profits.items(), key=lambda x: x[1], reverse=True)\r\n",
        "profits[:20]"
      ],
      "execution_count": 62,
      "outputs": [
        {
          "output_type": "execute_result",
          "data": {
            "text/plain": [
              "[((32980, -32510, 42), 9433),\n",
              " ((32935, -32510, 42), 8798),\n",
              " ((32930, -32510, 42), 8413),\n",
              " ((32925, -32510, 42), 8388),\n",
              " ((32915, -32510, 42), 8323),\n",
              " ((32920, -32510, 42), 8323),\n",
              " ((32910, -32510, 42), 8273),\n",
              " ((32905, -32510, 42), 8248),\n",
              " ((32980, -32620, 42), 7233),\n",
              " ((32980, -32630, 42), 7133),\n",
              " ((32980, -32625, 42), 7133),\n",
              " ((32980, -32635, 42), 6933),\n",
              " ((32980, -32650, 42), 6633),\n",
              " ((32935, -32620, 42), 6598),\n",
              " ((32980, -32660, 42), 6533),\n",
              " ((32935, -32630, 42), 6498),\n",
              " ((32935, -32625, 42), 6498),\n",
              " ((32980, -32665, 42), 6333),\n",
              " ((32935, -32635, 42), 6298),\n",
              " ((32980, -32670, 42), 6233)]"
            ]
          },
          "metadata": {
            "tags": []
          },
          "execution_count": 62
        }
      ]
    }
  ]
}